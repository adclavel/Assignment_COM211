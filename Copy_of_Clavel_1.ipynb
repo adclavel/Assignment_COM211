{
  "cells": [
    {
      "cell_type": "markdown",
      "metadata": {
        "id": "view-in-github",
        "colab_type": "text"
      },
      "source": [
        "<a href=\"https://colab.research.google.com/github/adclavel/CCINSYSL_ASSIGNMENT_COM-DF211/blob/main/Copy_of_Clavel_1.ipynb\" target=\"_parent\"><img src=\"https://colab.research.google.com/assets/colab-badge.svg\" alt=\"Open In Colab\"/></a>"
      ]
    },
    {
      "cell_type": "markdown",
      "metadata": {
        "id": "GBxi4CrfzeYk"
      },
      "source": [
        "# Exercise 1\n",
        "\n",
        "Learning through data\n",
        "\n",
        "Instruction: Define a function that will accept input and return the output that matches the examples given for each number"
      ]
    },
    {
      "cell_type": "markdown",
      "metadata": {
        "id": "TGoRtGThzeYm"
      },
      "source": [
        "1. Find the function **f(x)**  \n",
        "\n",
        "| Input  | CAT | DOG | APPLE | BANANA | ORANGE |  \n",
        "| --- | --- | --- | --- | --- | --- |\n",
        "| Output | cat | dog | apple | banana | orange\n"
      ]
    },
    {
      "cell_type": "code",
      "execution_count": null,
      "metadata": {
        "id": "qVeYW_ypzeYn",
        "outputId": "8039488b-960e-4e2f-ddcf-de93957e5be8",
        "colab": {
          "base_uri": "https://localhost:8080/"
        }
      },
      "outputs": [
        {
          "output_type": "stream",
          "name": "stdout",
          "text": [
            "Enter Text:ASD\n",
            "asd\n"
          ]
        }
      ],
      "source": [
        "# Answer here\n",
        "def tolower(x):\n",
        "\n",
        "    txt = x.lower()\n",
        "\n",
        "    return txt\n",
        "\n",
        "\n",
        "text = input(\"Enter Text:\")\n",
        "lowercase_text = tolower(text)\n",
        "print(lowercase_text)"
      ]
    },
    {
      "cell_type": "markdown",
      "metadata": {
        "id": "ljHhD6M1zeYn"
      },
      "source": [
        "2. Find the function **f(x)**  \n",
        "\n",
        "| Input  | CAT | DOG | APPLE | BANANA | ORANGE |  \n",
        "| --- | --- | --- | --- | --- | --- |\n",
        "| Output | CT | DG | PPL | BNN | RNG\n"
      ]
    },
    {
      "cell_type": "code",
      "execution_count": null,
      "metadata": {
        "id": "O1IYoTnrzeYo",
        "outputId": "efbde895-b43f-408e-dd49-000b67087c65",
        "colab": {
          "base_uri": "https://localhost:8080/"
        }
      },
      "outputs": [
        {
          "output_type": "stream",
          "name": "stdout",
          "text": [
            "['CT', 'DG', 'PPL', 'BNN', 'RNG']\n"
          ]
        }
      ],
      "source": [
        "# Answer here\n",
        "\n",
        "def f(x):\n",
        "    return ''.join([c for c in x if c.upper() not in ['A', 'E', 'I', 'O', 'U']])\n",
        "\n",
        "\n",
        "\n",
        "# Test cases\n",
        "\n",
        "input_words = [\"CAT\", \"DOG\", \"APPLE\", \"BANANA\", \"ORANGE\"]\n",
        "output_words = [f(word) for word in input_words]\n",
        "print(output_words)"
      ]
    },
    {
      "cell_type": "markdown",
      "metadata": {
        "id": "jRfDgREezeYo"
      },
      "source": [
        "3. Find the function **f(x)**  \n",
        "\n",
        "| Input  | CAT | DOG | APPLE | BANANA | ORANGE |  \n",
        "| --- | --- | --- | --- | --- | --- |\n",
        "| Output | TAC | GOD | ELPPA | ANANAB | EGNARO\n"
      ]
    },
    {
      "cell_type": "code",
      "execution_count": null,
      "metadata": {
        "id": "xplN1Wi9zeYp",
        "outputId": "d74da5a4-4f08-4b91-bf23-7796fe9a822c",
        "colab": {
          "base_uri": "https://localhost:8080/"
        }
      },
      "outputs": [
        {
          "output_type": "stream",
          "name": "stdout",
          "text": [
            "TAC\n"
          ]
        }
      ],
      "source": [
        "# Answer here\n",
        "def my_function(x):\n",
        "  return x[::-1]\n",
        "\n",
        "mytxt = my_function(\"CAT\")\n",
        "print(mytxt)"
      ]
    },
    {
      "cell_type": "markdown",
      "metadata": {
        "id": "k4JMcMspzeYp"
      },
      "source": [
        "4. Find the function **f(x)**  \n",
        "\n",
        "| Input  | 2 | 3 | 4 | 5 | 6 |  \n",
        "| --- | --- | --- | --- | --- | --- |\n",
        "| Output | 4 | 9 | 16 | 25 | 36\n"
      ]
    },
    {
      "cell_type": "code",
      "execution_count": null,
      "metadata": {
        "id": "dZrQ2PYVzeYp",
        "outputId": "38e0004d-adfd-4e88-bc8d-9042d2f378c0",
        "colab": {
          "base_uri": "https://localhost:8080/"
        }
      },
      "outputs": [
        {
          "output_type": "stream",
          "name": "stdout",
          "text": [
            "[4, 9, 16, 25, 36]\n"
          ]
        }
      ],
      "source": [
        "# Answer here\n",
        "\n",
        "def f(x):\n",
        "   return x ** 2\n",
        "# Test cases\n",
        "input_numbers = [2, 3, 4, 5, 6]\n",
        "output_numbers = [f(num) for num in input_numbers]\n",
        "print(output_numbers)"
      ]
    },
    {
      "cell_type": "markdown",
      "metadata": {
        "id": "6DonFwqSzeYq"
      },
      "source": [
        "5. Find the function **f(x)**  \n",
        "\n",
        "| Input  | 64 | 27 | 1000 | 729 | 512 |  \n",
        "| --- | --- | --- | --- | --- | --- |\n",
        "| Output | 4 | 3 | 10 | 9 | 8"
      ]
    },
    {
      "cell_type": "code",
      "execution_count": null,
      "metadata": {
        "id": "EgBiiHMozeYq",
        "outputId": "c9e76732-3989-4fdc-acd1-15ab0eb8aa54",
        "colab": {
          "base_uri": "https://localhost:8080/"
        }
      },
      "outputs": [
        {
          "output_type": "stream",
          "name": "stdout",
          "text": [
            "[4, 3, 10, 9, 8]\n"
          ]
        }
      ],
      "source": [
        "# Answer here\n",
        "\n",
        "def f(x):\n",
        "    return round(x ** (1/3))\n",
        "# Test cases\n",
        "\n",
        "input_numbers = [64, 27, 1000, 729, 512]\n",
        "output_numbers = [f(num) for num in input_numbers]\n",
        "print(output_numbers)"
      ]
    }
  ],
  "metadata": {
    "kernelspec": {
      "display_name": "myenvironment",
      "language": "python",
      "name": "python3"
    },
    "language_info": {
      "codemirror_mode": {
        "name": "ipython",
        "version": 3
      },
      "file_extension": ".py",
      "mimetype": "text/x-python",
      "name": "python",
      "nbconvert_exporter": "python",
      "pygments_lexer": "ipython3",
      "version": "3.9.17"
    },
    "orig_nbformat": 4,
    "colab": {
      "provenance": [],
      "include_colab_link": true
    }
  },
  "nbformat": 4,
  "nbformat_minor": 0
}